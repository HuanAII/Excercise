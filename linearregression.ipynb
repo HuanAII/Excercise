{
  "nbformat": 4,
  "nbformat_minor": 0,
  "metadata": {
    "colab": {
      "provenance": [],
      "authorship_tag": "ABX9TyNubRTush36fy/22ZVTOv4e",
      "include_colab_link": true
    },
    "kernelspec": {
      "name": "python3",
      "display_name": "Python 3"
    },
    "language_info": {
      "name": "python"
    }
  },
  "cells": [
    {
      "cell_type": "markdown",
      "metadata": {
        "id": "view-in-github",
        "colab_type": "text"
      },
      "source": [
        "<a href=\"https://colab.research.google.com/github/HuanAII/Excercise/blob/main/linearregression.ipynb\" target=\"_parent\"><img src=\"https://colab.research.google.com/assets/colab-badge.svg\" alt=\"Open In Colab\"/></a>"
      ]
    },
    {
      "cell_type": "code",
      "execution_count": null,
      "metadata": {
        "colab": {
          "base_uri": "https://localhost:8080/"
        },
        "id": "54_A071KoUaE",
        "outputId": "a6de1677-c3fd-4c59-96d9-64b4b6662818"
      },
      "outputs": [
        {
          "output_type": "stream",
          "name": "stdout",
          "text": [
            "[624.1, 175.10000000000002, 300.5, 78.9]\n"
          ]
        }
      ],
      "source": [
        "#baitap1\n",
        "import numpy as np\n",
        "import matplotlib.pyplot as plt\n",
        "import random\n",
        "\n",
        "def get_column(data, index):\n",
        "    result = [row[index] for row in data]\n",
        "    return result\n",
        "\n",
        "def prepare_data(file_name_dataset):\n",
        "    data = np.genfromtxt(file_name_dataset, delimiter=',', skip_header=1).tolist()\n",
        "\n",
        "    tv_data = get_column(data, 0)\n",
        "    radio_data = get_column(data, 1)\n",
        "    newspaper_data = get_column(data, 2)\n",
        "    sales_data = get_column(data, 3)\n",
        "    X = [tv_data, radio_data, newspaper_data]\n",
        "    y = sales_data\n",
        "    return X, y\n",
        "X , y = prepare_data ( \"/content/advertising.csv\")\n",
        "list = [ sum ( X [0][:5]) , sum ( X [1][:5]) , sum ( X [2][:5]) , sum ( y [:5]) ]\n",
        "print ( list )\n"
      ]
    },
    {
      "cell_type": "code",
      "source": [
        "def initialize_params () :\n",
        "  w1 = random . gauss ( mu =0.0 , sigma =0.01)\n",
        "  w2 = random . gauss ( mu =0.0 , sigma =0.01)\n",
        "  w3 = random . gauss ( mu =0.0 , sigma =0.01)\n",
        "  b = 0\n",
        "  return w1 , w2 , w3 , b\n",
        "\n",
        "def compute_loss_mse (y , y_hat ):\n",
        "  return ( y - y_hat ) ** 2\n",
        "\n",
        "def predict ( x1 , x2 , x3 , w1 , w2 , w3 , b ) :\n",
        "  return w1 * x1 + w2 * x2 + w3 * x3 + b\n",
        "\n",
        "def compute_gradient_wi(x , y , y_hat ) :\n",
        "  return 2 * ( y_hat - y ) * x\n",
        "\n",
        "def compute_gradient_b(y , y_hat ) :\n",
        "  return 2 * ( y_hat - y)\n",
        "\n",
        "def update_weight_wi (w , dl_dw , lr ) :\n",
        "  return w - lr * dl_dw\n",
        "\n",
        "def update_weight_b (b , dl_db , lr ) :\n",
        "  return b - lr * dl_db"
      ],
      "metadata": {
        "id": "kfa0DhkrrQYk"
      },
      "execution_count": null,
      "outputs": []
    },
    {
      "cell_type": "code",
      "source": [
        "def implement_linear_regression(X_data, y_data, epoch_max=50, lr=1e-5):\n",
        "    losses = []\n",
        "    w1, w2, w3, b = initialize_params()\n",
        "    N = len(y_data)\n",
        "\n",
        "    for epoch in range(epoch_max):\n",
        "        for i in range(N):\n",
        "            x1 = X_data[0][i]\n",
        "            x2 = X_data[1][i]\n",
        "            x3 = X_data[2][i]\n",
        "            y = y_data[i]\n",
        "\n",
        "            # Compute predicted output\n",
        "            y_hat = predict(x1, x2, x3, w1, w2, w3, b)\n",
        "\n",
        "            # Compute loss\n",
        "            loss = compute_loss_mse(y, y_hat)\n",
        "\n",
        "            # Compute gradients for w1, w2, w3, and bias\n",
        "            dl_dw1 = compute_gradient_wi(x1, y, y_hat)\n",
        "            dl_dw2 = compute_gradient_wi(x2, y, y_hat)\n",
        "            dl_dw3 = compute_gradient_wi(x3, y, y_hat)\n",
        "            dl_db = compute_gradient_b(y, y_hat)\n",
        "\n",
        "            # Update weights and bias\n",
        "            w1 = update_weight_wi(w1, dl_dw1, lr)\n",
        "            w2 = update_weight_wi(w2, dl_dw2, lr)\n",
        "            w3 = update_weight_wi(w3, dl_dw3, lr)\n",
        "            b = update_weight_b(b, dl_db, lr)\n",
        "\n",
        "            # Log loss for each iteration\n",
        "            losses.append(loss)\n",
        "\n",
        "    return w1, w2, w3, b, losses"
      ],
      "metadata": {
        "id": "VDT7gb7Oq2o5"
      },
      "execution_count": null,
      "outputs": []
    },
    {
      "cell_type": "code",
      "source": [
        "X , y = prepare_data ( \"/content/advertising.csv\")\n",
        "( w1 , w2 , w3 ,b , losses ) = implement_linear_regression (X , y )\n",
        "plt . plot ( losses [:100])\n",
        "plt . xlabel (\"# iteration \")\n",
        "plt . ylabel (\" Loss \")\n",
        "plt . show ()"
      ],
      "metadata": {
        "colab": {
          "base_uri": "https://localhost:8080/",
          "height": 449
        },
        "id": "9Da4omfFtn5G",
        "outputId": "c8b29d74-9134-4dd6-82c1-b05c5c07fde4"
      },
      "execution_count": null,
      "outputs": [
        {
          "output_type": "display_data",
          "data": {
            "text/plain": [
              "<Figure size 640x480 with 1 Axes>"
            ],
            "image/png": "[encoded data removed]"
          },
          "metadata": {}
        }
      ]
    },
    {
      "cell_type": "code",
      "source": [
        "def implement_linear_regression(X_data, y_data, epoch_max=50, lr=1e-5):\n",
        "    losses = []\n",
        "    w1, w2, w3, b = initialize_params()\n",
        "    N = len(y_data)\n",
        "\n",
        "    for epoch in range(epoch_max):\n",
        "\n",
        "        loss_total = 0.0\n",
        "        dw1_total = 0.0\n",
        "        dw2_total = 0.0\n",
        "        dw3_total = 0.0\n",
        "        db_total = 0.0\n",
        "\n",
        "        for i in range(N):\n",
        "            # Get a sample\n",
        "            x1 = X_data[0][i]\n",
        "            x2 = X_data[1][i]\n",
        "            x3 = X_data[2][i]\n",
        "            y = y_data[i]\n",
        "\n",
        "            # Compute output\n",
        "            y_hat = predict(x1, x2, x3, w1, w2, w3, b)\n",
        "\n",
        "            # Compute loss\n",
        "            loss = compute_loss_mse(y, y_hat)\n",
        "\n",
        "            # Accumulate loss\n",
        "            loss_total += loss\n",
        "\n",
        "            # Compute gradients w1, w2, w3, b\n",
        "            dl_dw1 = compute_gradient_wi(x1, y, y_hat)\n",
        "            dl_dw2 = compute_gradient_wi(x2, y, y_hat)\n",
        "            dl_dw3 = compute_gradient_wi(x3, y, y_hat)\n",
        "            dl_db = compute_gradient_b(y, y_hat)\n",
        "\n",
        "            # Accumulate gradients for w1, w2, w3, b\n",
        "            dw1_total += dl_dw1\n",
        "            dw2_total += dl_dw2\n",
        "            dw3_total += dl_dw3\n",
        "            db_total += dl_db\n",
        "\n",
        "        # After processing N samples, update parameters\n",
        "        w1 = update_weight_wi(w1, dw1_total / N, lr)\n",
        "        w2 = update_weight_wi(w2, dw2_total / N, lr)\n",
        "        w3 = update_weight_wi(w3, dw3_total / N, lr)\n",
        "        b = update_weight_b(b, db_total / N, lr)\n",
        "\n",
        "        # Log average loss per epoch\n",
        "        losses.append(loss_total / N)\n",
        "\n",
        "    return w1, w2, w3, b, losses\n",
        "\n"
      ],
      "metadata": {
        "id": "Y5C3zhwCuJeD"
      },
      "execution_count": null,
      "outputs": []
    },
    {
      "cell_type": "code",
      "source": [
        "#baitap4:\n",
        "import numpy as np\n",
        "import random\n",
        "import matplotlib.pyplot as plt\n",
        "\n",
        "# Function to extract a specific column from the dataset\n",
        "def get_column(data, index):\n",
        "    return [row[index] for row in data]\n",
        "\n",
        "# Prepare data\n",
        "def prepare_data(file_name_dataset):\n",
        "    data = np.genfromtxt(file_name_dataset, delimiter=',', skip_header=1).tolist()\n",
        "\n",
        "    tv_data = get_column(data, 0)\n",
        "    radio_data = get_column(data, 1)\n",
        "    newspaper_data = get_column(data, 2)\n",
        "    sales_data = get_column(data, 3)\n",
        "\n",
        "    X = [[1, x1, x2, x3] for x1, x2, x3 in zip(tv_data, radio_data, newspaper_data)]\n",
        "    y = sales_data\n",
        "\n",
        "    return X, y\n",
        "\n",
        "# Initialize random weights\n",
        "def initialize_params():\n",
        "    w0 = random.gauss(0.0, 0.01)\n",
        "    w1 = random.gauss(0.0, 0.01)\n",
        "    w2 = random.gauss(0.0, 0.01)\n",
        "    w3 = random.gauss(0.0, 0.01)\n",
        "    return [w0, w1, w2, w3]\n",
        "\n",
        "# Predict the output\n",
        "def predict(X_features, weights):\n",
        "    return sum(w * x for w, x in zip(weights, X_features))\n",
        "\n",
        "# Compute the loss (MSE)\n",
        "def compute_loss(y_hat, y):\n",
        "    return (y_hat - y) ** 2\n",
        "\n",
        "# Compute gradient\n",
        "def compute_gradient_w(X_features, y, y_hat):\n",
        "    return [2 * (y_hat - y) * x for x in X_features]\n",
        "\n",
        "# Update weights using gradient descent\n",
        "def update_weight(weights, dl_dweights, lr):\n",
        "    return [w - lr * dw for w, dw in zip(weights, dl_dweights)]\n",
        "\n",
        "# Linear regression implementation\n",
        "def implement_linear_regression(X_feature, y_output, epoch_max=50, lr=1e-5):\n",
        "    losses = []\n",
        "    weights = initialize_params()\n",
        "    N = len(y_output)\n",
        "\n",
        "    for epoch in range(epoch_max):\n",
        "        print(\"epoch\", epoch)\n",
        "        for i in range(N):\n",
        "            features_i = X_feature[i]\n",
        "            y = y_output[i]\n",
        "\n",
        "            y_hat = predict(features_i, weights)\n",
        "            loss = compute_loss(y, y_hat)\n",
        "            dl_dweights = compute_gradient_w(features_i, y, y_hat)\n",
        "            weights = update_weight(weights, dl_dweights, lr)\n",
        "\n",
        "            losses.append(loss)\n",
        "\n",
        "    return weights, losses\n",
        "\n",
        "X, y = prepare_data(\"/content/advertising.csv\")\n",
        "W, L = implement_linear_regression(X, y)\n",
        "\n",
        "plt.plot(L[:min(100, len(L))])\n",
        "plt.xlabel(\"# iteration\")\n",
        "plt.ylabel(\"Loss\")\n",
        "plt.show()\n",
        "print ( L[9999])\n"
      ],
      "metadata": {
        "colab": {
          "base_uri": "https://localhost:8080/",
          "height": 1000
        },
        "id": "Du6xybUzujsR",
        "outputId": "ffae14e0-9b5f-4224-a399-80abaa900ca3"
      },
      "execution_count": null,
      "outputs": [
        {
          "output_type": "stream",
          "name": "stdout",
          "text": [
            "epoch 0\n",
            "epoch 1\n",
            "epoch 2\n",
            "epoch 3\n",
            "epoch 4\n",
            "epoch 5\n",
            "epoch 6\n",
            "epoch 7\n",
            "epoch 8\n",
            "epoch 9\n",
            "epoch 10\n",
            "epoch 11\n",
            "epoch 12\n",
            "epoch 13\n",
            "epoch 14\n",
            "epoch 15\n",
            "epoch 16\n",
            "epoch 17\n",
            "epoch 18\n",
            "epoch 19\n",
            "epoch 20\n",
            "epoch 21\n",
            "epoch 22\n",
            "epoch 23\n",
            "epoch 24\n",
            "epoch 25\n",
            "epoch 26\n",
            "epoch 27\n",
            "epoch 28\n",
            "epoch 29\n",
            "epoch 30\n",
            "epoch 31\n",
            "epoch 32\n",
            "epoch 33\n",
            "epoch 34\n",
            "epoch 35\n",
            "epoch 36\n",
            "epoch 37\n",
            "epoch 38\n",
            "epoch 39\n",
            "epoch 40\n",
            "epoch 41\n",
            "epoch 42\n",
            "epoch 43\n",
            "epoch 44\n",
            "epoch 45\n",
            "epoch 46\n",
            "epoch 47\n",
            "epoch 48\n",
            "epoch 49\n"
          ]
        },
        {
          "output_type": "display_data",
          "data": {
            "text/plain": [
              "<Figure size 640x480 with 1 Axes>"
            ],
            "image/png": "[encoded data removed]"
          },
          "metadata": {}
        },
        {
          "output_type": "stream",
          "name": "stdout",
          "text": [
            "31.580633737124387\n"
          ]
        }
      ]
    }
  ]
}